{
 "cells": [
  {
   "cell_type": "code",
   "execution_count": 9,
   "id": "152b10d8",
   "metadata": {},
   "outputs": [],
   "source": [
    "# Calculcus - Sympy - Differentiation - 5 Higher-Order Derivatives \n",
    "# Page 128 - Ch2 Calculus: A Complete Course\n",
    "#\n",
    "# Differentiating gives the gradient of a graph\n",
    "from sympy import *\n",
    "import sympy as sp\n",
    "a,b = sp.symbols('a, b')\n",
    "#m,n = sp.symbols('m, n')\n",
    "x,t = sp.symbols('x, t')\n",
    "#theta = sp.Symbol(\"theta\")"
   ]
  },
  {
   "cell_type": "markdown",
   "id": "4aa24341",
   "metadata": {},
   "source": []
  },
  {
   "cell_type": "code",
   "execution_count": 10,
   "id": "c9e3cb1f",
   "metadata": {},
   "outputs": [
    {
     "data": {
      "text/latex": [
       "$\\displaystyle 0$"
      ],
      "text/plain": [
       "0"
      ]
     },
     "execution_count": 10,
     "metadata": {},
     "output_type": "execute_result"
    }
   ],
   "source": [
    "# Differentiation - 5 Higher-Order Derivatives \n",
    "#Example 2 Page 128 - Ch2 Calculus: A Complete Course\n",
    "HD1 = x**3\n",
    "EX2 = HD1.diff(x, 4) # 4th Derivatives\n",
    "EX2\n",
    "#simplify(EX2A)"
   ]
  },
  {
   "cell_type": "code",
   "execution_count": 11,
   "id": "101fed0e",
   "metadata": {},
   "outputs": [
    {
     "data": {
      "image/png": "[encoded data removed]",
      "text/plain": [
       "<Figure size 640x480 with 1 Axes>"
      ]
     },
     "metadata": {},
     "output_type": "display_data"
    }
   ],
   "source": [
    "from sympy import symbols\n",
    "from sympy.plotting import plot\n",
    "\n",
    "p2 = plot(EX2, title=\"Example 2\") # 4th Derivative Plot"
   ]
  },
  {
   "cell_type": "code",
   "execution_count": 12,
   "id": "2f28b1d4",
   "metadata": {},
   "outputs": [
    {
     "data": {
      "text/latex": [
       "$\\displaystyle - a^{2} \\sin{\\left(a x + b \\right)}$"
      ],
      "text/plain": [
       "-a**2*sin(a*x + b)"
      ]
     },
     "execution_count": 12,
     "metadata": {},
     "output_type": "execute_result"
    }
   ],
   "source": [
    "# Differentiation - 5 Higher-Order Derivatives \n",
    "#Example 5 Page 130 - Ch2 Calculus: A Complete Course\n",
    "HD5 = sin(a*x+b)\n",
    "#HD5\n",
    "EX5 = HD5.diff(x,2) # 2th Derivatives\n",
    "EX5\n",
    "#sp.simplify(EX5)"
   ]
  },
  {
   "cell_type": "code",
   "execution_count": 13,
   "id": "cdd3e7e2",
   "metadata": {},
   "outputs": [
    {
     "ename": "ValueError",
     "evalue": "The same variable should be used in all univariate expressions being plotted.",
     "output_type": "error",
     "traceback": [
      "\u001b[0;31m---------------------------------------------------------------------------\u001b[0m",
      "\u001b[0;31mValueError\u001b[0m                                Traceback (most recent call last)",
      "Cell \u001b[0;32mIn[13], line 4\u001b[0m\n\u001b[1;32m      1\u001b[0m \u001b[38;5;66;03m#from sympy import symbols\u001b[39;00m\n\u001b[1;32m      2\u001b[0m \u001b[38;5;66;03m#from sympy.plotting import *\u001b[39;00m\n\u001b[0;32m----> 4\u001b[0m p5 \u001b[38;5;241m=\u001b[39m \u001b[43mplot\u001b[49m\u001b[43m(\u001b[49m\u001b[43mEX5\u001b[49m\u001b[43m,\u001b[49m\u001b[43m \u001b[49m\u001b[43mtitle\u001b[49m\u001b[38;5;241;43m=\u001b[39;49m\u001b[38;5;124;43m\"\u001b[39;49m\u001b[38;5;124;43mExample 5\u001b[39;49m\u001b[38;5;124;43m\"\u001b[39;49m\u001b[43m)\u001b[49m \u001b[38;5;66;03m# 2th Derivatives Plot\u001b[39;00m\n",
      "File \u001b[0;32m/usr/lib/python3.11/site-packages/sympy/plotting/plot.py:1861\u001b[0m, in \u001b[0;36mplot\u001b[0;34m(show, *args, **kwargs)\u001b[0m\n\u001b[1;32m   1859\u001b[0m         free \u001b[38;5;241m|\u001b[39m\u001b[38;5;241m=\u001b[39m a\u001b[38;5;241m.\u001b[39mfree_symbols\n\u001b[1;32m   1860\u001b[0m         \u001b[38;5;28;01mif\u001b[39;00m \u001b[38;5;28mlen\u001b[39m(free) \u001b[38;5;241m>\u001b[39m \u001b[38;5;241m1\u001b[39m:\n\u001b[0;32m-> 1861\u001b[0m             \u001b[38;5;28;01mraise\u001b[39;00m \u001b[38;5;167;01mValueError\u001b[39;00m(\n\u001b[1;32m   1862\u001b[0m                 \u001b[38;5;124m'\u001b[39m\u001b[38;5;124mThe same variable should be used in all \u001b[39m\u001b[38;5;124m'\u001b[39m\n\u001b[1;32m   1863\u001b[0m                 \u001b[38;5;124m'\u001b[39m\u001b[38;5;124munivariate expressions being plotted.\u001b[39m\u001b[38;5;124m'\u001b[39m)\n\u001b[1;32m   1864\u001b[0m x \u001b[38;5;241m=\u001b[39m free\u001b[38;5;241m.\u001b[39mpop() \u001b[38;5;28;01mif\u001b[39;00m free \u001b[38;5;28;01melse\u001b[39;00m Symbol(\u001b[38;5;124m'\u001b[39m\u001b[38;5;124mx\u001b[39m\u001b[38;5;124m'\u001b[39m)\n\u001b[1;32m   1865\u001b[0m kwargs\u001b[38;5;241m.\u001b[39msetdefault(\u001b[38;5;124m'\u001b[39m\u001b[38;5;124mxlabel\u001b[39m\u001b[38;5;124m'\u001b[39m, x)\n",
      "\u001b[0;31mValueError\u001b[0m: The same variable should be used in all univariate expressions being plotted."
     ]
    }
   ],
   "source": [
    "#from sympy import symbols\n",
    "#from sympy.plotting import *\n",
    "\n",
    "p5 = plot(EX5, title=\"Example 5\") # 2th Derivatives Plot"
   ]
  },
  {
   "cell_type": "code",
   "execution_count": 14,
   "id": "1eb574b9",
   "metadata": {},
   "outputs": [
    {
     "data": {
      "text/latex": [
       "$\\displaystyle 20 x^{3} - 8 \\cos{\\left(2 x \\right)}$"
      ],
      "text/plain": [
       "20*x**3 - 8*cos(2*x)"
      ]
     },
     "execution_count": 14,
     "metadata": {},
     "output_type": "execute_result"
    }
   ],
   "source": [
    "# Remark on Page 130\n",
    "HD7 = x**5\n",
    "HD71 = sin(2*x)\n",
    "EX7 = (HD7.diff(x,2) + HD71.diff(x,3))\n",
    "EX7"
   ]
  },
  {
   "cell_type": "code",
   "execution_count": null,
   "id": "54f8abbb",
   "metadata": {},
   "outputs": [],
   "source": []
  }
 ],
 "metadata": {
  "kernelspec": {
   "display_name": "Python 3",
   "language": "python",
   "name": "python3"
  },
  "language_info": {
   "codemirror_mode": {
    "name": "ipython",
    "version": 3
   },
   "file_extension": ".py",
   "mimetype": "text/x-python",
   "name": "python",
   "nbconvert_exporter": "python",
   "pygments_lexer": "ipython3",
   "version": "3.11.3"
  },
  "nbTranslate": {
   "displayLangs": [
    "*"
   ],
   "hotkey": "alt-t",
   "langInMainMenu": true,
   "sourceLang": "en",
   "targetLang": "fr",
   "useGoogleTranslate": true
  },
  "toc": {
   "base_numbering": 1,
   "nav_menu": {},
   "number_sections": true,
   "sideBar": true,
   "skip_h1_title": false,
   "title_cell": "Table of Contents",
   "title_sidebar": "Contents",
   "toc_cell": false,
   "toc_position": {},
   "toc_section_display": true,
   "toc_window_display": false
  },
  "varInspector": {
   "cols": {
    "lenName": 16,
    "lenType": 16,
    "lenVar": 40
   },
   "kernels_config": {
    "python": {
     "delete_cmd_postfix": "",
     "delete_cmd_prefix": "del ",
     "library": "var_list.py",
     "varRefreshCmd": "print(var_dic_list())"
    },
    "r": {
     "delete_cmd_postfix": ") ",
     "delete_cmd_prefix": "rm(",
     "library": "var_list.r",
     "varRefreshCmd": "cat(var_dic_list()) "
    }
   },
   "types_to_exclude": [
    "module",
    "function",
    "builtin_function_or_method",
    "instance",
    "_Feature"
   ],
   "window_display": false
  }
 },
 "nbformat": 4,
 "nbformat_minor": 5
}
