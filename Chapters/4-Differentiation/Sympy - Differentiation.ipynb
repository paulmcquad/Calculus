{
 "cells": [
  {
   "cell_type": "code",
   "execution_count": 23,
   "id": "152b10d8",
   "metadata": {},
   "outputs": [
    {
     "data": {
      "text/latex": [
       "$\\displaystyle - e^{x} \\sin{\\left(x \\right)} + e^{x} \\cos{\\left(x \\right)}$"
      ],
      "text/plain": [
       "-exp(x)*sin(x) + exp(x)*cos(x)"
      ]
     },
     "execution_count": 23,
     "metadata": {},
     "output_type": "execute_result"
    }
   ],
   "source": [
    "# Calculcus - Differentiation\n",
    "# https://www.youtube.com/watch?v=BcOPKQAZcn0\n",
    "# Differentiating gives the gradient of a graph\n",
    "\n",
    "from sympy import *\n",
    "x = Symbol('x')\n",
    "f = exp(x)*cos(x)\n",
    "derivative_f = f.diff(x)\n",
    "derivative_f"
   ]
  },
  {
   "cell_type": "code",
   "execution_count": 24,
   "id": "8331f0c8",
   "metadata": {},
   "outputs": [
    {
     "data": {
      "text/latex": [
       "$\\displaystyle 8 x^{3} - 6$"
      ],
      "text/plain": [
       "8*x**3 - 6"
      ]
     },
     "execution_count": 24,
     "metadata": {},
     "output_type": "execute_result"
    }
   ],
   "source": [
    "f = 2*x**4-6*x+1 # Q1\n",
    "derivative_f = f.diff(x)\n",
    "derivative_f"
   ]
  },
  {
   "cell_type": "code",
   "execution_count": 25,
   "id": "9b7b83b5",
   "metadata": {},
   "outputs": [
    {
     "data": {
      "text/latex": [
       "$\\displaystyle 6 x - \\frac{4}{x^{2}}$"
      ],
      "text/plain": [
       "6*x - 4/x**2"
      ]
     },
     "execution_count": 25,
     "metadata": {},
     "output_type": "execute_result"
    }
   ],
   "source": [
    "f = 3*x**2+((x/4)**-1)-2 #Q2\n",
    "derivative_f = f.diff(x)\n",
    "derivative_f"
   ]
  },
  {
   "cell_type": "code",
   "execution_count": 31,
   "id": "1419e831",
   "metadata": {},
   "outputs": [
    {
     "data": {
      "text/latex": [
       "$\\displaystyle \\frac{10}{x^{3}} + \\frac{1}{\\sqrt{x}}$"
      ],
      "text/plain": [
       "10/x**3 + 1/sqrt(x)"
      ]
     },
     "execution_count": 31,
     "metadata": {},
     "output_type": "execute_result"
    }
   ],
   "source": [
    "f = 2*sqrt(x)-(5/x**2) #Q3\n",
    "derivative_f = f.diff(x)\n",
    "derivative_f"
   ]
  },
  {
   "cell_type": "code",
   "execution_count": 62,
   "id": "63a50d6e",
   "metadata": {},
   "outputs": [
    {
     "data": {
      "text/latex": [
       "$\\displaystyle 2 x^{2} - 5 x - 3$"
      ],
      "text/plain": [
       "2*x**2 - 5*x - 3"
      ]
     },
     "execution_count": 62,
     "metadata": {},
     "output_type": "execute_result"
    }
   ],
   "source": [
    "expand((2*x + 1)*(x - 3)) # Q4"
   ]
  },
  {
   "cell_type": "code",
   "execution_count": 54,
   "id": "8463af96",
   "metadata": {},
   "outputs": [
    {
     "data": {
      "text/latex": [
       "$\\displaystyle 4 x - 5$"
      ],
      "text/plain": [
       "4*x - 5"
      ]
     },
     "execution_count": 54,
     "metadata": {},
     "output_type": "execute_result"
    }
   ],
   "source": [
    "f = 2*x**2-5*x-3 # (2x+1)(x-3) ^ Above\n",
    "derivative_f = f.diff(x)\n",
    "derivative_f"
   ]
  },
  {
   "cell_type": "code",
   "execution_count": 29,
   "id": "1b6a5b39",
   "metadata": {},
   "outputs": [
    {
     "data": {
      "text/latex": [
       "$\\displaystyle 8 x - \\frac{1}{x^{2}}$"
      ],
      "text/plain": [
       "8*x - 1/x**2"
      ]
     },
     "execution_count": 29,
     "metadata": {},
     "output_type": "execute_result"
    }
   ],
   "source": [
    "f = (4*x**3+1)/x # Q5\n",
    "derivative_f = f.diff(x)\n",
    "derivative_f\n",
    "simplify(derivative_f)"
   ]
  },
  {
   "cell_type": "code",
   "execution_count": 76,
   "id": "b42049ad",
   "metadata": {},
   "outputs": [
    {
     "data": {
      "text/latex": [
       "$\\displaystyle \\frac{2 x^{3} - 4}{\\sqrt{x}}$"
      ],
      "text/plain": [
       "(2*x**3 - 4)/sqrt(x)"
      ]
     },
     "execution_count": 76,
     "metadata": {},
     "output_type": "execute_result"
    }
   ],
   "source": [
    "(((2*x**3)-4)/(sqrt(x))) # Q6"
   ]
  },
  {
   "cell_type": "code",
   "execution_count": 79,
   "id": "19729ce1",
   "metadata": {},
   "outputs": [
    {
     "data": {
      "text/latex": [
       "$\\displaystyle \\frac{2 \\left(x^{3} - 2\\right)}{\\sqrt{x}}$"
      ],
      "text/plain": [
       "2*(x**3 - 2)/sqrt(x)"
      ]
     },
     "execution_count": 79,
     "metadata": {},
     "output_type": "execute_result"
    }
   ],
   "source": [
    "simplify((((2*x**3)-4)/(sqrt(x))))"
   ]
  },
  {
   "cell_type": "code",
   "execution_count": 53,
   "id": "b71c71f4",
   "metadata": {},
   "outputs": [],
   "source": [
    "#f = 2*x**-3/2-4*x**-1/2   # (2*x**3-4)/sqrt(x)\n",
    "#derivative_f = f.diff(x)\n",
    "#derivative_f"
   ]
  }
 ],
 "metadata": {
  "kernelspec": {
   "display_name": "Python 3",
   "language": "python",
   "name": "python3"
  },
  "language_info": {
   "codemirror_mode": {
    "name": "ipython",
    "version": 3
   },
   "file_extension": ".py",
   "mimetype": "text/x-python",
   "name": "python",
   "nbconvert_exporter": "python",
   "pygments_lexer": "ipython3",
   "version": "3.11.3"
  }
 },
 "nbformat": 4,
 "nbformat_minor": 5
}
