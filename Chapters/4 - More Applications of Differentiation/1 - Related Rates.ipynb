{
 "cells": [
  {
   "cell_type": "code",
   "execution_count": 3,
   "id": "4ca4b10f",
   "metadata": {},
   "outputs": [],
   "source": [
    "# Calculcus - Sympy -Transcendental - 3  The Natural Logarithm and Exponential Functions\n",
    "# Page 176 - Ch3 Calculus: A Complete Course\n",
    "#\n",
    "\n",
    "from sympy import *\n",
    "import math\n",
    "import sympy as sp\n",
    "a,b = sp.symbols('a, b')\n",
    "#m,n = sp.symbols('m, n')\n",
    "x,y,t,s = sp.symbols('x, y, t, s')\n",
    "#theta = sp.Symbol(\"theta\")"
   ]
  },
  {
   "cell_type": "markdown",
   "id": "7802d605",
   "metadata": {},
   "source": [
    "An aircraft is flying horizontally at a speed of 600 km/h. How fast\n",
    "is the distance between the aircraft and a radio beacon increasing\n",
    "1 min after the aircraft passes 5 km directly above the beacon?"
   ]
  },
  {
   "cell_type": "code",
   "execution_count": 9,
   "id": "a06ce4ce",
   "metadata": {},
   "outputs": [
    {
     "data": {
      "text/latex": [
       "$\\displaystyle 5 \\sqrt{5}$"
      ],
      "text/plain": [
       "5*sqrt(5)"
      ]
     },
     "execution_count": 9,
     "metadata": {},
     "output_type": "execute_result"
    }
   ],
   "source": [
    "E1 = x**2 + 5**2\n",
    "D1 = E1.diff()\n",
    "#D1\n",
    "s = sp.sqrt(10**2+5**2) # 5 sqrt(5) km\n",
    "s"
   ]
  },
  {
   "cell_type": "code",
   "execution_count": null,
   "id": "da2a2760",
   "metadata": {},
   "outputs": [],
   "source": []
  }
 ],
 "metadata": {
  "kernelspec": {
   "display_name": "Python 3",
   "language": "python",
   "name": "python3"
  },
  "language_info": {
   "codemirror_mode": {
    "name": "ipython",
    "version": 3
   },
   "file_extension": ".py",
   "mimetype": "text/x-python",
   "name": "python",
   "nbconvert_exporter": "python",
   "pygments_lexer": "ipython3",
   "version": "3.11.3"
  },
  "nbTranslate": {
   "displayLangs": [
    "*"
   ],
   "hotkey": "alt-t",
   "langInMainMenu": true,
   "sourceLang": "en",
   "targetLang": "fr",
   "useGoogleTranslate": true
  },
  "toc": {
   "base_numbering": 1,
   "nav_menu": {},
   "number_sections": true,
   "sideBar": true,
   "skip_h1_title": false,
   "title_cell": "Table of Contents",
   "title_sidebar": "Contents",
   "toc_cell": false,
   "toc_position": {},
   "toc_section_display": true,
   "toc_window_display": false
  },
  "varInspector": {
   "cols": {
    "lenName": 16,
    "lenType": 16,
    "lenVar": 40
   },
   "kernels_config": {
    "python": {
     "delete_cmd_postfix": "",
     "delete_cmd_prefix": "del ",
     "library": "var_list.py",
     "varRefreshCmd": "print(var_dic_list())"
    },
    "r": {
     "delete_cmd_postfix": ") ",
     "delete_cmd_prefix": "rm(",
     "library": "var_list.r",
     "varRefreshCmd": "cat(var_dic_list()) "
    }
   },
   "types_to_exclude": [
    "module",
    "function",
    "builtin_function_or_method",
    "instance",
    "_Feature"
   ],
   "window_display": false
  }
 },
 "nbformat": 4,
 "nbformat_minor": 5
}
