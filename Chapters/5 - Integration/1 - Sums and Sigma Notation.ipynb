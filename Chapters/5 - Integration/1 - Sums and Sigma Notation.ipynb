{
 "cells": [
  {
   "cell_type": "code",
   "execution_count": 46,
   "id": "b240b061",
   "metadata": {},
   "outputs": [],
   "source": [
    "# Calculcus - Sympy -Integration\n",
    "#\n",
    "# An integral is the continuous analog of a sum, which is used to calculate areas, volumes,\n",
    "# and their generalizations. Integration, the process of computing an integral,\n",
    "# is one of the two fundamental operations of calculus,[a] the other being differentiation.\n",
    "#\n",
    "# Page 291 - Ch5 Calculus: A Complete Course\n",
    "\n",
    "\n",
    "\n",
    "from sympy import *\n",
    "import math\n",
    "import sympy as sp\n",
    "a,b = sp.symbols('a, b')\n",
    "i = sp.symbols('i')\n",
    "#m,n = sp.symbols('m, n')\n",
    "x,y,t,s = sp.symbols('x, y, t, s')\n",
    "#theta = sp.Symbol(\"theta\")\n",
    "#Sigma = sp.Symbol(\"Sigma\")"
   ]
  },
  {
   "cell_type": "code",
   "execution_count": 57,
   "id": "7e4c53e7",
   "metadata": {},
   "outputs": [
    {
     "data": {
      "text/latex": [
       "$\\displaystyle \\sum_{i=1}^{5} i^{2}$"
      ],
      "text/plain": [
       "Sum(i**2, (i, 1, 5))"
      ]
     },
     "execution_count": 57,
     "metadata": {},
     "output_type": "execute_result"
    }
   ],
   "source": [
    "Sum(i**2, (i,1,5))"
   ]
  },
  {
   "cell_type": "code",
   "execution_count": 47,
   "id": "28545a6a",
   "metadata": {},
   "outputs": [
    {
     "data": {
      "text/latex": [
       "$\\displaystyle 55$"
      ],
      "text/plain": [
       "55"
      ]
     },
     "execution_count": 47,
     "metadata": {},
     "output_type": "execute_result"
    }
   ],
   "source": [
    "EX1 = sp.summation(i**2, (i, 1, 5))\n",
    "EX1"
   ]
  },
  {
   "cell_type": "code",
   "execution_count": 58,
   "id": "e5423539",
   "metadata": {},
   "outputs": [
    {
     "data": {
      "text/latex": [
       "$\\displaystyle \\sum_{i=1}^{100} i$"
      ],
      "text/plain": [
       "Sum(i, (i, 1, 100))"
      ]
     },
     "execution_count": 58,
     "metadata": {},
     "output_type": "execute_result"
    }
   ],
   "source": [
    "Sum(i, (i,1,100))"
   ]
  },
  {
   "cell_type": "code",
   "execution_count": 48,
   "id": "45283a48",
   "metadata": {},
   "outputs": [
    {
     "data": {
      "text/latex": [
       "$\\displaystyle 5050$"
      ],
      "text/plain": [
       "5050"
      ]
     },
     "execution_count": 48,
     "metadata": {},
     "output_type": "execute_result"
    }
   ],
   "source": [
    "EX2 = sp.summation(i, (i, 1, 100))\n",
    "EX2"
   ]
  },
  {
   "cell_type": "code",
   "execution_count": null,
   "id": "4d5f9331",
   "metadata": {},
   "outputs": [],
   "source": []
  }
 ],
 "metadata": {
  "kernelspec": {
   "display_name": "Python 3",
   "language": "python",
   "name": "python3"
  },
  "language_info": {
   "codemirror_mode": {
    "name": "ipython",
    "version": 3
   },
   "file_extension": ".py",
   "mimetype": "text/x-python",
   "name": "python",
   "nbconvert_exporter": "python",
   "pygments_lexer": "ipython3",
   "version": "3.11.3"
  },
  "nbTranslate": {
   "displayLangs": [
    "*"
   ],
   "hotkey": "alt-t",
   "langInMainMenu": true,
   "sourceLang": "en",
   "targetLang": "fr",
   "useGoogleTranslate": true
  },
  "toc": {
   "base_numbering": 1,
   "nav_menu": {},
   "number_sections": true,
   "sideBar": true,
   "skip_h1_title": false,
   "title_cell": "Table of Contents",
   "title_sidebar": "Contents",
   "toc_cell": false,
   "toc_position": {},
   "toc_section_display": true,
   "toc_window_display": false
  },
  "varInspector": {
   "cols": {
    "lenName": 16,
    "lenType": 16,
    "lenVar": 40
   },
   "kernels_config": {
    "python": {
     "delete_cmd_postfix": "",
     "delete_cmd_prefix": "del ",
     "library": "var_list.py",
     "varRefreshCmd": "print(var_dic_list())"
    },
    "r": {
     "delete_cmd_postfix": ") ",
     "delete_cmd_prefix": "rm(",
     "library": "var_list.r",
     "varRefreshCmd": "cat(var_dic_list()) "
    }
   },
   "types_to_exclude": [
    "module",
    "function",
    "builtin_function_or_method",
    "instance",
    "_Feature"
   ],
   "window_display": false
  }
 },
 "nbformat": 4,
 "nbformat_minor": 5
}
