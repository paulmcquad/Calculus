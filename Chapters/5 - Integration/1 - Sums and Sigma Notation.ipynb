{
 "cells": [
  {
   "cell_type": "code",
   "execution_count": 2,
   "id": "b240b061",
   "metadata": {},
   "outputs": [],
   "source": [
    "# Calculcus - Sympy -Integration\n",
    "#\n",
    "# An integral is the continuous analog of a sum, which is used to calculate areas, volumes,\n",
    "# and their generalizations. Integration, the process of computing an integral,\n",
    "# is one of the two fundamental operations of calculus,[a] the other being differentiation.\n",
    "#\n",
    "# Page 291 - Ch5 Calculus: A Complete Course\n",
    "\n",
    "\n",
    "\n",
    "from sympy import *\n",
    "import math\n",
    "import sympy as sp\n",
    "a,b = sp.symbols('a, b')\n",
    "i, k, j = sp.symbols('i, k, j')\n",
    "m,n = sp.symbols('m, n')\n",
    "x,y,t,s,r = sp.symbols('x, y, t, s, r')\n",
    "#theta = sp.Symbol(\"theta\")\n",
    "#Sigma = sp.Symbol(\"Sigma\")"
   ]
  },
  {
   "cell_type": "code",
   "execution_count": 3,
   "id": "12b1eff2",
   "metadata": {},
   "outputs": [
    {
     "data": {
      "text/latex": [
       "$\\displaystyle \\sum_{i=1}^{5} i^{2} = 55$"
      ],
      "text/plain": [
       "Eq(Sum(i**2, (i, 1, 5)), 55)"
      ]
     },
     "execution_count": 3,
     "metadata": {},
     "output_type": "execute_result"
    }
   ],
   "source": [
    "#EX1 = sp.summation(i**2, (i, 1, 5))\n",
    "EX1 = sp.Sum(i**2, (i,1,5))\n",
    "Eq(EX1, EX1.doit())"
   ]
  },
  {
   "cell_type": "code",
   "execution_count": 4,
   "id": "4d5f9331",
   "metadata": {},
   "outputs": [
    {
     "data": {
      "text/latex": [
       "$\\displaystyle \\sum_{i=1}^{20} i = 210$"
      ],
      "text/plain": [
       "Eq(Sum(i, (i, 1, 20)), 210)"
      ]
     },
     "execution_count": 4,
     "metadata": {},
     "output_type": "execute_result"
    }
   ],
   "source": [
    "EX2A = sp.Sum(i, (i,1,20))\n",
    "Eq(EX2A, EX2A.doit())"
   ]
  },
  {
   "cell_type": "code",
   "execution_count": 5,
   "id": "9cea9b0f",
   "metadata": {},
   "outputs": [
    {
     "data": {
      "text/latex": [
       "$\\displaystyle \\sum_{i=0}^{n} x^{i} = \\begin{cases} n + 1 & \\text{for}\\: x = 1 \\\\\\frac{1 - x^{n + 1}}{1 - x} & \\text{otherwise} \\end{cases}$"
      ],
      "text/plain": [
       "Eq(Sum(x**i, (i, 0, n)), Piecewise((n + 1, Eq(x, 1)), ((1 - x**(n + 1))/(1 - x), True)))"
      ]
     },
     "execution_count": 5,
     "metadata": {},
     "output_type": "execute_result"
    }
   ],
   "source": [
    "EX2B = sp.Sum(x**i, (i,0,n))\n",
    "Eq(EX2B, EX2B.doit())"
   ]
  },
  {
   "cell_type": "code",
   "execution_count": 6,
   "id": "c3e62fec",
   "metadata": {},
   "outputs": [
    {
     "data": {
      "text/latex": [
       "$\\displaystyle \\sum_{k=-2}^{3} \\frac{1}{k + 7} = \\frac{2131}{2520}$"
      ],
      "text/plain": [
       "Eq(Sum(1/(k + 7), (k, -2, 3)), 2131/2520)"
      ]
     },
     "execution_count": 6,
     "metadata": {},
     "output_type": "execute_result"
    }
   ],
   "source": [
    "EX2C = sp.Sum(1/(k+7), (k,-2,3))\n",
    "Eq(EX2C, EX2C.doit())"
   ]
  },
  {
   "cell_type": "code",
   "execution_count": 7,
   "id": "294d7a72",
   "metadata": {},
   "outputs": [
    {
     "data": {
      "text/latex": [
       "$\\displaystyle \\sum_{j=3}^{17} \\sqrt{j^{2} + 1} = \\sqrt{10} + \\sqrt{17} + \\sqrt{26} + \\sqrt{37} + 5 \\sqrt{2} + \\sqrt{65} + \\sqrt{82} + \\sqrt{101} + \\sqrt{122} + \\sqrt{145} + \\sqrt{170} + \\sqrt{197} + \\sqrt{226} + \\sqrt{257} + \\sqrt{290}$"
      ],
      "text/plain": [
       "Eq(Sum(sqrt(j**2 + 1), (j, 3, 17)), sqrt(10) + sqrt(17) + sqrt(26) + sqrt(37) + 5*sqrt(2) + sqrt(65) + sqrt(82) + sqrt(101) + sqrt(122) + sqrt(145) + sqrt(170) + sqrt(197) + sqrt(226) + sqrt(257) + sqrt(290))"
      ]
     },
     "execution_count": 7,
     "metadata": {},
     "output_type": "execute_result"
    }
   ],
   "source": [
    "EX3 = sp.Sum(sqrt(1+j**2), (j,3,17)) # Same Answer as below\n",
    "Eq(EX3, EX3.doit())"
   ]
  },
  {
   "cell_type": "code",
   "execution_count": 8,
   "id": "ac01aa43",
   "metadata": {},
   "outputs": [
    {
     "data": {
      "text/latex": [
       "$\\displaystyle \\sum_{i=1}^{15} \\sqrt{\\left(i + 2\\right)^{2} + 1} = \\sqrt{10} + \\sqrt{17} + \\sqrt{26} + \\sqrt{37} + 5 \\sqrt{2} + \\sqrt{65} + \\sqrt{82} + \\sqrt{101} + \\sqrt{122} + \\sqrt{145} + \\sqrt{170} + \\sqrt{197} + \\sqrt{226} + \\sqrt{257} + \\sqrt{290}$"
      ],
      "text/plain": [
       "Eq(Sum(sqrt((i + 2)**2 + 1), (i, 1, 15)), sqrt(10) + sqrt(17) + sqrt(26) + sqrt(37) + 5*sqrt(2) + sqrt(65) + sqrt(82) + sqrt(101) + sqrt(122) + sqrt(145) + sqrt(170) + sqrt(197) + sqrt(226) + sqrt(257) + sqrt(290))"
      ]
     },
     "execution_count": 8,
     "metadata": {},
     "output_type": "execute_result"
    }
   ],
   "source": [
    "EX3P2 = sp.Sum(sqrt(1+(i+2)**2), (i,1,15)) # Same Answer as above\n",
    "Eq(EX3P2, EX3P2.doit())"
   ]
  },
  {
   "cell_type": "code",
   "execution_count": 9,
   "id": "b2c53247",
   "metadata": {},
   "outputs": [
    {
     "data": {
      "text/latex": [
       "$\\displaystyle \\sum_{i=1}^{3} 1 = 3$"
      ],
      "text/plain": [
       "Eq(Sum(1, (i, 1, 3)), 3)"
      ]
     },
     "execution_count": 9,
     "metadata": {},
     "output_type": "execute_result"
    }
   ],
   "source": [
    "# Summation formulas (a)\n",
    "SAMPLE = sp.Sum(1, (i,1,3)) # Count 1 + 1 + 1 - Evaluating Sums\n",
    "Eq(SAMPLE, SAMPLE.doit())"
   ]
  },
  {
   "cell_type": "code",
   "execution_count": 10,
   "id": "7f22c6fc",
   "metadata": {},
   "outputs": [
    {
     "data": {
      "text/latex": [
       "$\\displaystyle \\sum_{i=1}^{100} i = 5050$"
      ],
      "text/plain": [
       "Eq(Sum(i, (i, 1, 100)), 5050)"
      ]
     },
     "execution_count": 10,
     "metadata": {},
     "output_type": "execute_result"
    }
   ],
   "source": [
    "# Summation formulas (b)\n",
    "SAMPLE2 = sp.Sum(i, (i,1,100)) # Count 1 + 2 + 3 .. + 100 - Evaluating Sums\n",
    "Eq(SAMPLE2, SAMPLE2.doit())"
   ]
  },
  {
   "cell_type": "code",
   "execution_count": 11,
   "id": "ba94b5c0",
   "metadata": {},
   "outputs": [
    {
     "data": {
      "text/latex": [
       "$\\displaystyle \\sum_{i=1}^{2} i^{2} = 5$"
      ],
      "text/plain": [
       "Eq(Sum(i**2, (i, 1, 2)), 5)"
      ]
     },
     "execution_count": 11,
     "metadata": {},
     "output_type": "execute_result"
    }
   ],
   "source": [
    "# Summation formulas (c)\n",
    "\n",
    "SAMPLE3 = sp.Sum(i**2, (i,1,2)) # Count 1^2 + 2^2 - Evaluating Sums\n",
    "Eq(SAMPLE3, SAMPLE3.doit())"
   ]
  },
  {
   "cell_type": "code",
   "execution_count": 12,
   "id": "f67a9488",
   "metadata": {},
   "outputs": [
    {
     "data": {
      "text/latex": [
       "$\\displaystyle \\sum_{i=1}^{4} \\left(r^{i} - 1\\right) = r^{4} + r^{3} + r^{2} + r - 4$"
      ],
      "text/plain": [
       "Eq(Sum(r**i - 1, (i, 1, 4)), r**4 + r**3 + r**2 + r - 4)"
      ]
     },
     "execution_count": 12,
     "metadata": {},
     "output_type": "execute_result"
    }
   ],
   "source": [
    "# Summation formulas (d)\n",
    "\n",
    "SAMPLE4 = sp.Sum(r**i-1, (i,1,4)) # - Evaluating Sums\n",
    "Eq(SAMPLE4, SAMPLE4.doit())"
   ]
  },
  {
   "cell_type": "code",
   "execution_count": 13,
   "id": "b86f4221",
   "metadata": {},
   "outputs": [
    {
     "data": {
      "text/latex": [
       "$\\displaystyle \\sum_{k=1}^{n} \\left(6 k^{2} - 4 k + 3\\right) = 2 n^{3} + n^{2} + 2 n$"
      ],
      "text/plain": [
       "Eq(Sum(6*k**2 - 4*k + 3, (k, 1, n)), 2*n**3 + n**2 + 2*n)"
      ]
     },
     "execution_count": 13,
     "metadata": {},
     "output_type": "execute_result"
    }
   ],
   "source": [
    "EX4 = sp.Sum(6*k**2-4*k+3, (k,1,n)) \n",
    "Eq(EX4, EX4.doit())"
   ]
  },
  {
   "cell_type": "code",
   "execution_count": 14,
   "id": "802515df",
   "metadata": {},
   "outputs": [
    {
     "data": {
      "text/latex": [
       "$\\displaystyle \\sum_{k=m + 1}^{n} \\left(6 k^{2} - 4 k + 3\\right) = - 2 m^{3} - m^{2} - 2 m + 2 n^{3} + n^{2} + 2 n$"
      ],
      "text/plain": [
       "Eq(Sum(6*k**2 - 4*k + 3, (k, m + 1, n)), -2*m**3 - m**2 - 2*m + 2*n**3 + n**2 + 2*n)"
      ]
     },
     "execution_count": 14,
     "metadata": {},
     "output_type": "execute_result"
    }
   ],
   "source": [
    "EX42 = sp.Sum(6*k**2-4*k+3, (k,m+1,n)) \n",
    "Eq(EX42, EX42.doit())"
   ]
  },
  {
   "cell_type": "code",
   "execution_count": 15,
   "id": "9decb572",
   "metadata": {},
   "outputs": [
    {
     "data": {
      "text/latex": [
       "$\\displaystyle \\sum_{i=1}^{4} i^{3} = 100$"
      ],
      "text/plain": [
       "Eq(Sum(i**3, (i, 1, 4)), 100)"
      ]
     },
     "execution_count": 15,
     "metadata": {},
     "output_type": "execute_result"
    }
   ],
   "source": [
    "# EXERCISES 5.1\n",
    "# Q1:\n",
    "Q1 = sp.Sum(i**3, (i,1,4)) \n",
    "Eq(Q1, Q1.doit())"
   ]
  },
  {
   "cell_type": "code",
   "execution_count": 16,
   "id": "6fe42e55",
   "metadata": {},
   "outputs": [
    {
     "data": {
      "text/latex": [
       "$\\displaystyle \\sum_{j=1}^{100} \\frac{j}{j + 1} = \\frac{26984782829491135215947420723253902574955589}{281670315928038407744716588098661706369472}$"
      ],
      "text/plain": [
       "Eq(Sum(j/(j + 1), (j, 1, 100)), 26984782829491135215947420723253902574955589/281670315928038407744716588098661706369472)"
      ]
     },
     "execution_count": 16,
     "metadata": {},
     "output_type": "execute_result"
    }
   ],
   "source": [
    "# EXERCISES 5.1\n",
    "# Q2:\n",
    "Q2 = sp.Sum(j/(j+1), (j,1,100))\n",
    "Eq(Q2, Q2.doit())"
   ]
  },
  {
   "cell_type": "code",
   "execution_count": 17,
   "id": "61ced71b",
   "metadata": {},
   "outputs": [
    {
     "data": {
      "text/latex": [
       "$\\displaystyle \\sum_{i=1}^{n} 3^{i} = \\frac{3^{n + 1}}{2} - \\frac{3}{2}$"
      ],
      "text/plain": [
       "Eq(Sum(3**i, (i, 1, n)), 3**(n + 1)/2 - 3/2)"
      ]
     },
     "execution_count": 17,
     "metadata": {},
     "output_type": "execute_result"
    }
   ],
   "source": [
    "# EXERCISES 5.1\n",
    "# Q3:\n",
    "Q2 = sp.Sum(3**i, (i,1,n))\n",
    "Eq(Q2, Q2.doit())"
   ]
  },
  {
   "cell_type": "code",
   "execution_count": 18,
   "id": "abf7dc9a",
   "metadata": {
    "scrolled": true
   },
   "outputs": [
    {
     "data": {
      "text/latex": [
       "$\\displaystyle \\sum_{i=0}^{n - 1} \\frac{\\left(-1\\right)^{i}}{i + 1} = - \\left(-1\\right)^{n} \\Phi\\left(e^{i \\pi}, 1, n + 1\\right) + \\log{\\left(2 \\right)}$"
      ],
      "text/plain": [
       "Eq(Sum((-1)**i/(i + 1), (i, 0, n - 1)), -(-1)**n*lerchphi(exp_polar(I*pi), 1, n + 1) + log(2))"
      ]
     },
     "execution_count": 18,
     "metadata": {},
     "output_type": "execute_result"
    }
   ],
   "source": [
    "# EXERCISES 5.1\n",
    "# Q4:\n",
    "# Weird answer : Φφ\tPhi\n",
    "#\n",
    "Q4 = sp.Sum((-1)**i/(i+1), (i,0,n-1))\n",
    "Eq(Q4, Q4.doit())"
   ]
  },
  {
   "cell_type": "code",
   "execution_count": 19,
   "id": "154d8a42",
   "metadata": {},
   "outputs": [],
   "source": [
    "# EXERCISES 5.1\n",
    "# Q5:\n",
    "#Q5 = sp.Sum((j-2), (j,5,n))\n",
    "#Eq(Q5, Q5.doit())"
   ]
  },
  {
   "cell_type": "code",
   "execution_count": 20,
   "id": "20483bab",
   "metadata": {},
   "outputs": [
    {
     "data": {
      "text/latex": [
       "$\\displaystyle \\sum_{j=1}^{n} \\frac{j^{2}}{n^{3}} = \\frac{\\frac{n^{3}}{3} + \\frac{n^{2}}{2} + \\frac{n}{6}}{n^{3}}$"
      ],
      "text/plain": [
       "Eq(Sum(j**2/n**3, (j, 1, n)), (n**3/3 + n**2/2 + n/6)/n**3)"
      ]
     },
     "execution_count": 20,
     "metadata": {},
     "output_type": "execute_result"
    }
   ],
   "source": [
    "# EXERCISES 5.1\n",
    "# Q6:\n",
    "#\n",
    "Q6 = sp.Sum(j**2/n**3, (j,1,n))\n",
    "Eq(Q6, Q6.doit())"
   ]
  },
  {
   "cell_type": "code",
   "execution_count": 21,
   "id": "a7fed8de",
   "metadata": {},
   "outputs": [
    {
     "data": {
      "text/latex": [
       "$\\displaystyle \\sum_{i=5}^{9} i = 35$"
      ],
      "text/plain": [
       "Eq(Sum(i, (i, 5, 9)), 35)"
      ]
     },
     "execution_count": 21,
     "metadata": {},
     "output_type": "execute_result"
    }
   ],
   "source": [
    "# EXERCISES 5.1\n",
    "# Q7: 5 + 6 + 7 + 8 + 9\n",
    "#\n",
    "Q7 = sp.Sum(i, (i,5,9))\n",
    "Eq(Q7, Q7.doit())"
   ]
  },
  {
   "cell_type": "code",
   "execution_count": 22,
   "id": "8a2ef06e",
   "metadata": {},
   "outputs": [],
   "source": [
    "# EXERCISES 5.1\n",
    "# Q9:\n",
    "#\n",
    "#Q9 = sp.Sum( ((-1*i)(i**2), (i,2,99))\n",
    "#Eq(Q9, Q9.doit())"
   ]
  },
  {
   "cell_type": "code",
   "execution_count": 13,
   "id": "543c6b86",
   "metadata": {},
   "outputs": [
    {
     "data": {
      "text/latex": [
       "$\\displaystyle \\sum_{i=1}^{100} i = 5050$"
      ],
      "text/plain": [
       "Eq(Sum(i, (i, 1, 100)), 5050)"
      ]
     },
     "execution_count": 13,
     "metadata": {},
     "output_type": "execute_result"
    }
   ],
   "source": [
    "from sympy.abc import i, k, m, n, x\n",
    "import sympy as sp\n",
    "\n",
    "SAMPLE2 = sp.Sum(i, (i,1,100)) # Count 1 + 2 + 3 .. + 100 - Evaluating Sums\n",
    "Eq(SAMPLE2, SAMPLE2.doit())"
   ]
  },
  {
   "cell_type": "code",
   "execution_count": null,
   "id": "204ecca9",
   "metadata": {},
   "outputs": [],
   "source": []
  }
 ],
 "metadata": {
  "kernelspec": {
   "display_name": "Python 3",
   "language": "python",
   "name": "python3"
  },
  "language_info": {
   "codemirror_mode": {
    "name": "ipython",
    "version": 3
   },
   "file_extension": ".py",
   "mimetype": "text/x-python",
   "name": "python",
   "nbconvert_exporter": "python",
   "pygments_lexer": "ipython3",
   "version": "3.11.3"
  },
  "nbTranslate": {
   "displayLangs": [
    "*"
   ],
   "hotkey": "alt-t",
   "langInMainMenu": true,
   "sourceLang": "en",
   "targetLang": "fr",
   "useGoogleTranslate": true
  },
  "toc": {
   "base_numbering": 1,
   "nav_menu": {},
   "number_sections": true,
   "sideBar": true,
   "skip_h1_title": false,
   "title_cell": "Table of Contents",
   "title_sidebar": "Contents",
   "toc_cell": false,
   "toc_position": {},
   "toc_section_display": true,
   "toc_window_display": false
  },
  "varInspector": {
   "cols": {
    "lenName": 16,
    "lenType": 16,
    "lenVar": 40
   },
   "kernels_config": {
    "python": {
     "delete_cmd_postfix": "",
     "delete_cmd_prefix": "del ",
     "library": "var_list.py",
     "varRefreshCmd": "print(var_dic_list())"
    },
    "r": {
     "delete_cmd_postfix": ") ",
     "delete_cmd_prefix": "rm(",
     "library": "var_list.r",
     "varRefreshCmd": "cat(var_dic_list()) "
    }
   },
   "types_to_exclude": [
    "module",
    "function",
    "builtin_function_or_method",
    "instance",
    "_Feature"
   ],
   "window_display": false
  }
 },
 "nbformat": 4,
 "nbformat_minor": 5
}
