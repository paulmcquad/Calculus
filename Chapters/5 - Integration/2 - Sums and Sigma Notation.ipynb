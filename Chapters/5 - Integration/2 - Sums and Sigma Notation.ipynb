{
 "cells": [
  {
   "cell_type": "code",
   "execution_count": 5,
   "id": "82a1ba87",
   "metadata": {},
   "outputs": [
    {
     "data": {
      "text/latex": [
       "$\\displaystyle \\sum_{n=1}^{100} n = 5050$"
      ],
      "text/plain": [
       "Eq(Sum(n, (n, 1, 100)), 5050)"
      ]
     },
     "execution_count": 5,
     "metadata": {},
     "output_type": "execute_result"
    }
   ],
   "source": [
    "from sympy import *\n",
    "import math\n",
    "import sympy as sp\n",
    "C100 = sp.Sum(n, (n,1,100)) # Count 1 + 2 + 3 .. + 100 - Evaluating Sums\n",
    "Eq(C100, C100.doit())"
   ]
  },
  {
   "cell_type": "code",
   "execution_count": 44,
   "id": "7f2ec7fe",
   "metadata": {},
   "outputs": [
    {
     "data": {
      "text/latex": [
       "$\\displaystyle \\sum_{i=m}^{m + n - 1} i^{2} + \\sum_{i=m + n}^{m - 1} i^{2}$"
      ],
      "text/plain": [
       "Sum(i**2, (i, m, m + n - 1)) + Sum(i**2, (i, m + n, m - 1))"
      ]
     },
     "execution_count": 44,
     "metadata": {},
     "output_type": "execute_result"
    }
   ],
   "source": [
    "S1 = Sum(i**2, (i, m, m+n-1)).doit()\n",
    "#S1\n",
    "S2 = Sum(i**2, (i, m+n, m-1)).doit()\n",
    "#S2\n",
    "S1 + S2\n",
    "S3 = Sum(i, (i, m, m-1)).doit()\n",
    "S3"
   ]
  },
  {
   "cell_type": "code",
   "execution_count": 36,
   "id": "313f1739",
   "metadata": {},
   "outputs": [
    {
     "data": {
      "text/latex": [
       "$\\displaystyle - m^{2} n - m n^{2} + m n - \\frac{n^{3}}{3} + \\frac{n^{2}}{2} - \\frac{n}{6}$"
      ],
      "text/plain": [
       "-m**2*n - m*n**2 + m*n - n**3/3 + n**2/2 - n/6"
      ]
     },
     "execution_count": 36,
     "metadata": {},
     "output_type": "execute_result"
    }
   ],
   "source": [
    "S2 = Sum(i**2, (i, m+n, m-1)).doit()\n",
    "S2"
   ]
  },
  {
   "cell_type": "code",
   "execution_count": 35,
   "id": "2996be92",
   "metadata": {},
   "outputs": [
    {
     "data": {
      "text/latex": [
       "$\\displaystyle \\sum_{i=m}^{m + n - 1} i^{2} = m^{2} n + m n^{2} - m n + \\frac{n^{3}}{3} - \\frac{n^{2}}{2} + \\frac{n}{6}$"
      ],
      "text/plain": [
       "Eq(Sum(i**2, (i, m, m + n - 1)), m**2*n + m*n**2 - m*n + n**3/3 - n**2/2 + n/6)"
      ]
     },
     "execution_count": 35,
     "metadata": {},
     "output_type": "execute_result"
    }
   ],
   "source": [
    "EX6 = Sum(i**2, (i, m, m+n-1))\n",
    "Eq(EX6, EX6.doit())"
   ]
  },
  {
   "cell_type": "code",
   "execution_count": 37,
   "id": "06eb418a",
   "metadata": {},
   "outputs": [
    {
     "data": {
      "text/latex": [
       "$\\displaystyle \\sum_{i=m + n}^{m - 1} i^{2} = - m^{2} n - m n^{2} + m n - \\frac{n^{3}}{3} + \\frac{n^{2}}{2} - \\frac{n}{6}$"
      ],
      "text/plain": [
       "Eq(Sum(i**2, (i, m + n, m - 1)), -m**2*n - m*n**2 + m*n - n**3/3 + n**2/2 - n/6)"
      ]
     },
     "execution_count": 37,
     "metadata": {},
     "output_type": "execute_result"
    }
   ],
   "source": [
    "EX7 = Sum(i**2, (i, m+n, m-1))\n",
    "Eq(EX7, EX7.doit())"
   ]
  },
  {
   "cell_type": "code",
   "execution_count": 46,
   "id": "d22c503a",
   "metadata": {},
   "outputs": [
    {
     "data": {
      "text/latex": [
       "$\\displaystyle 0$"
      ],
      "text/plain": [
       "0"
      ]
     },
     "execution_count": 46,
     "metadata": {},
     "output_type": "execute_result"
    }
   ],
   "source": [
    "EX6.doit() + EX7.doit()"
   ]
  },
  {
   "cell_type": "code",
   "execution_count": 47,
   "id": "375f9499",
   "metadata": {},
   "outputs": [
    {
     "data": {
      "text/latex": [
       "$\\displaystyle 0$"
      ],
      "text/plain": [
       "0"
      ]
     },
     "execution_count": 47,
     "metadata": {},
     "output_type": "execute_result"
    }
   ],
   "source": [
    "S3 = Sum(i, (i, m, m-1)).doit()\n",
    "S3\n",
    "\n"
   ]
  },
  {
   "cell_type": "code",
   "execution_count": 53,
   "id": "8a6b75c9",
   "metadata": {},
   "outputs": [
    {
     "data": {
      "text/latex": [
       "$\\displaystyle 0$"
      ],
      "text/plain": [
       "0"
      ]
     },
     "execution_count": 53,
     "metadata": {},
     "output_type": "execute_result"
    }
   ],
   "source": [
    "EX8 = Sum(i, (i, m, m-1)).doit()\n",
    "EX8"
   ]
  },
  {
   "cell_type": "code",
   "execution_count": 54,
   "id": "4564d7e0",
   "metadata": {},
   "outputs": [
    {
     "data": {
      "text/latex": [
       "$\\displaystyle \\sum_{k=1}^{m} k = \\frac{m^{2}}{2} + \\frac{m}{2}$"
      ],
      "text/plain": [
       "Eq(Sum(k, (k, 1, m)), m**2/2 + m/2)"
      ]
     },
     "execution_count": 54,
     "metadata": {},
     "output_type": "execute_result"
    }
   ],
   "source": [
    "from sympy.abc import i, k, m, n, x\n",
    "from sympy import Eq, Sum, factorial, oo, IndexedBase, Function\n",
    "import math\n",
    "EX1 = Sum(k, (k, 1, m))\n",
    "Eq(EX1, EX1.doit())"
   ]
  },
  {
   "cell_type": "code",
   "execution_count": 3,
   "id": "155b6bfc",
   "metadata": {},
   "outputs": [
    {
     "data": {
      "text/latex": [
       "$\\displaystyle \\sum_{n=1}^{100} n = 5050$"
      ],
      "text/plain": [
       "Eq(Sum(n, (n, 1, 100)), 5050)"
      ]
     },
     "execution_count": 3,
     "metadata": {},
     "output_type": "execute_result"
    }
   ],
   "source": [
    "from sympy.abc import n\n",
    "from sympy import Sum, Eq\n",
    "C100 = Sum(n, (n,1,100)) # Count 1 + 2 + 3 .. + 100 - Evaluating Sums\n",
    "Eq(C100, C100.doit())"
   ]
  },
  {
   "cell_type": "code",
   "execution_count": 4,
   "id": "a390a970",
   "metadata": {},
   "outputs": [
    {
     "data": {
      "text/latex": [
       "$\\displaystyle \\sum_{k=1}^{m} k = \\frac{m^{2}}{2} + \\frac{m}{2}$"
      ],
      "text/plain": [
       "Eq(Sum(k, (k, 1, m)), m**2/2 + m/2)"
      ]
     },
     "execution_count": 4,
     "metadata": {},
     "output_type": "execute_result"
    }
   ],
   "source": [
    "from sympy.abc import k, m\n",
    "from sympy import Eq, Sum\n",
    "EX1 = Sum(k, (k, 1, m))\n",
    "Eq(EX1, EX1.doit())"
   ]
  },
  {
   "cell_type": "code",
   "execution_count": 9,
   "id": "342715fa",
   "metadata": {},
   "outputs": [
    {
     "data": {
      "text/latex": [
       "$\\displaystyle \\sum_{k=0}^{\\infty} \\frac{x^{k}}{k!} = e^{x}$"
      ],
      "text/plain": [
       "Eq(Sum(x**k/factorial(k), (k, 0, oo)), exp(x))"
      ]
     },
     "execution_count": 9,
     "metadata": {},
     "output_type": "execute_result"
    }
   ],
   "source": [
    "from sympy.abc import k, x\n",
    "from sympy import Eq, Sum, factorial, oo\n",
    "EX4 = Sum(x**k/factorial(k), (k, 0, oo))\n",
    "Eq(EX4, EX4.doit())"
   ]
  },
  {
   "cell_type": "code",
   "execution_count": 10,
   "id": "490fbd18",
   "metadata": {},
   "outputs": [
    {
     "data": {
      "text/latex": [
       "$\\displaystyle \\sum_{n=0}^{3} f{\\left(n \\right)} = f{\\left(0 \\right)} + f{\\left(1 \\right)} + f{\\left(2 \\right)} + f{\\left(3 \\right)}$"
      ],
      "text/plain": [
       "Eq(Sum(f(n), (n, 0, 3)), f(0) + f(1) + f(2) + f(3))"
      ]
     },
     "execution_count": 10,
     "metadata": {},
     "output_type": "execute_result"
    }
   ],
   "source": [
    "from sympy.abc import n\n",
    "from sympy import Sum, Eq\n",
    "f = Function('f')\n",
    "EX5 = Sum(f(n), (n, 0, 3))\n",
    "Eq(EX5, EX5.doit())"
   ]
  },
  {
   "cell_type": "code",
   "execution_count": 25,
   "id": "81efd231",
   "metadata": {},
   "outputs": [
    {
     "data": {
      "text/latex": [
       "$\\displaystyle \\sum_{n=0}^{\\infty} f{\\left(n \\right)}$"
      ],
      "text/plain": [
       "Sum(f(n), (n, 0, oo))"
      ]
     },
     "execution_count": 25,
     "metadata": {},
     "output_type": "execute_result"
    }
   ],
   "source": [
    "from sympy.abc import n\n",
    "from sympy import Sum, oo\n",
    "f = Function('f')\n",
    "Sum(f(n), (n, 0, oo)).doit()"
   ]
  },
  {
   "cell_type": "code",
   "execution_count": 33,
   "id": "274a4b03",
   "metadata": {},
   "outputs": [
    {
     "data": {
      "text/latex": [
       "$\\displaystyle \\sum_{i=1}^{n} i = \\frac{n^{2}}{2} + \\frac{n}{2}$"
      ],
      "text/plain": [
       "Eq(Sum(i, (i, 1, n)), n**2/2 + n/2)"
      ]
     },
     "execution_count": 33,
     "metadata": {},
     "output_type": "execute_result"
    }
   ],
   "source": [
    "from sympy.abc import n, i\n",
    "from sympy import Sum, Eq, oo\n",
    "f = IndexedBase('f')\n",
    "EX7 = Sum(i, (i, 1, n))\n",
    "Eq(EX7, EX7.doit())"
   ]
  },
  {
   "cell_type": "code",
   "execution_count": 34,
   "id": "7f7695e6",
   "metadata": {},
   "outputs": [
    {
     "data": {
      "text/latex": [
       "$\\displaystyle {f}_{0}^{2} + {f}_{1}^{2} + {f}_{2}^{2} + {f}_{3}^{2}$"
      ],
      "text/plain": [
       "f[0]**2 + f[1]**2 + f[2]**2 + f[3]**2"
      ]
     },
     "execution_count": 34,
     "metadata": {},
     "output_type": "execute_result"
    }
   ],
   "source": [
    "f = Function('f')\n",
    "Sum(f(n), (n, 0, 3)).doit()\n",
    "Sum(f(n), (n, 0, oo)).doit()\n",
    "f = IndexedBase('f')\n",
    "Sum(f[n]**2, (n, 0, 3)).doit()"
   ]
  },
  {
   "cell_type": "code",
   "execution_count": 36,
   "id": "8cbbaeea",
   "metadata": {},
   "outputs": [
    {
     "data": {
      "text/latex": [
       "$\\displaystyle \\sum_{i=1}^{-4} i = 6$"
      ],
      "text/plain": [
       "Eq(Sum(i, (i, 1, -4)), 6)"
      ]
     },
     "execution_count": 36,
     "metadata": {},
     "output_type": "execute_result"
    }
   ],
   "source": [
    "from sympy.abc import i\n",
    "from sympy import Sum, Eq\n",
    "\n",
    "EX4 = Sum(i, (i, 1, -4))\n",
    "Eq(EX4, EX4.doit())"
   ]
  },
  {
   "cell_type": "code",
   "execution_count": 40,
   "id": "86a44ba8",
   "metadata": {},
   "outputs": [
    {
     "data": {
      "text/latex": [
       "$\\displaystyle \\sum_{n=0}^{3} {f}_{n}^{2} = {f}_{0}^{2} + {f}_{1}^{2} + {f}_{2}^{2} + {f}_{3}^{2}$"
      ],
      "text/plain": [
       "Eq(Sum(f[n]**2, (n, 0, 3)), f[0]**2 + f[1]**2 + f[2]**2 + f[3]**2)"
      ]
     },
     "execution_count": 40,
     "metadata": {},
     "output_type": "execute_result"
    }
   ],
   "source": [
    "from sympy.abc import n\n",
    "from sympy import Sum, Eq, oo\n",
    "f = IndexedBase('f')\n",
    "EX6 = Sum(f[n]**2, (n, 0, 3))\n",
    "Eq(EX6, EX6.doit())"
   ]
  },
  {
   "cell_type": "code",
   "execution_count": 41,
   "id": "6949b542",
   "metadata": {},
   "outputs": [
    {
     "data": {
      "text/latex": [
       "$\\displaystyle \\sum_{i=1}^{-4} i = 6$"
      ],
      "text/plain": [
       "Eq(Sum(i, (i, 1, -4)), 6)"
      ]
     },
     "execution_count": 41,
     "metadata": {},
     "output_type": "execute_result"
    }
   ],
   "source": [
    "from sympy.abc import i\n",
    "from sympy import Sum, Eq\n",
    "EX7 = Sum(i, (i, 1, -4))\n",
    "Eq(EX7, EX7.doit())"
   ]
  },
  {
   "cell_type": "code",
   "execution_count": 42,
   "id": "d9f1dbbd",
   "metadata": {},
   "outputs": [
    {
     "data": {
      "text/latex": [
       "$\\displaystyle \\sum_{i=-3}^{0} - i = 6$"
      ],
      "text/plain": [
       "Eq(Sum(-i, (i, -3, 0)), 6)"
      ]
     },
     "execution_count": 42,
     "metadata": {},
     "output_type": "execute_result"
    }
   ],
   "source": [
    "from sympy.abc import i\n",
    "from sympy import Sum, Eq\n",
    "\n",
    "EX8 = Sum(-i, (i, -3, 0))\n",
    "Eq(EX8, EX8.doit())"
   ]
  },
  {
   "cell_type": "code",
   "execution_count": 44,
   "id": "bb710d23",
   "metadata": {},
   "outputs": [
    {
     "data": {
      "text/latex": [
       "$\\displaystyle \\sum_{i=m}^{m + n - 1} i^{2} = m^{2} n + m n^{2} - m n + \\frac{n^{3}}{3} - \\frac{n^{2}}{2} + \\frac{n}{6}$"
      ],
      "text/plain": [
       "Eq(Sum(i**2, (i, m, m + n - 1)), m**2*n + m*n**2 - m*n + n**3/3 - n**2/2 + n/6)"
      ]
     },
     "execution_count": 44,
     "metadata": {},
     "output_type": "execute_result"
    }
   ],
   "source": [
    "from sympy.abc import i, m, n\n",
    "from sympy import Sum, Eq\n",
    "EX9 = Sum(i**2, (i, m, m+n-1))\n",
    "Eq(EX9, EX9.doit())"
   ]
  },
  {
   "cell_type": "code",
   "execution_count": 45,
   "id": "897af5d7",
   "metadata": {},
   "outputs": [
    {
     "data": {
      "text/latex": [
       "$\\displaystyle \\sum_{i=m + n}^{m - 1} i^{2} = - m^{2} n - m n^{2} + m n - \\frac{n^{3}}{3} + \\frac{n^{2}}{2} - \\frac{n}{6}$"
      ],
      "text/plain": [
       "Eq(Sum(i**2, (i, m + n, m - 1)), -m**2*n - m*n**2 + m*n - n**3/3 + n**2/2 - n/6)"
      ]
     },
     "execution_count": 45,
     "metadata": {},
     "output_type": "execute_result"
    }
   ],
   "source": [
    "from sympy.abc import i, m, n\n",
    "from sympy import Sum, Eq\n",
    "EX10 = Sum(i**2, (i, m+n, m-1))\n",
    "Eq(EX10, EX10.doit())"
   ]
  },
  {
   "cell_type": "code",
   "execution_count": null,
   "id": "a5c395dc",
   "metadata": {},
   "outputs": [],
   "source": []
  }
 ],
 "metadata": {
  "kernelspec": {
   "display_name": "Python 3",
   "language": "python",
   "name": "python3"
  },
  "language_info": {
   "codemirror_mode": {
    "name": "ipython",
    "version": 3
   },
   "file_extension": ".py",
   "mimetype": "text/x-python",
   "name": "python",
   "nbconvert_exporter": "python",
   "pygments_lexer": "ipython3",
   "version": "3.11.3"
  },
  "nbTranslate": {
   "displayLangs": [
    "*"
   ],
   "hotkey": "alt-t",
   "langInMainMenu": true,
   "sourceLang": "en",
   "targetLang": "fr",
   "useGoogleTranslate": true
  },
  "toc": {
   "base_numbering": 1,
   "nav_menu": {},
   "number_sections": true,
   "sideBar": true,
   "skip_h1_title": false,
   "title_cell": "Table of Contents",
   "title_sidebar": "Contents",
   "toc_cell": false,
   "toc_position": {},
   "toc_section_display": true,
   "toc_window_display": false
  },
  "varInspector": {
   "cols": {
    "lenName": 16,
    "lenType": 16,
    "lenVar": 40
   },
   "kernels_config": {
    "python": {
     "delete_cmd_postfix": "",
     "delete_cmd_prefix": "del ",
     "library": "var_list.py",
     "varRefreshCmd": "print(var_dic_list())"
    },
    "r": {
     "delete_cmd_postfix": ") ",
     "delete_cmd_prefix": "rm(",
     "library": "var_list.r",
     "varRefreshCmd": "cat(var_dic_list()) "
    }
   },
   "types_to_exclude": [
    "module",
    "function",
    "builtin_function_or_method",
    "instance",
    "_Feature"
   ],
   "window_display": false
  }
 },
 "nbformat": 4,
 "nbformat_minor": 5
}
