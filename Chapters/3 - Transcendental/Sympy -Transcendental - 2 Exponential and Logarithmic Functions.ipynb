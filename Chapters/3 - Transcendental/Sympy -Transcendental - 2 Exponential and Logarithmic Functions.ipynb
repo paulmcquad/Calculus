{
 "cells": [
  {
   "cell_type": "code",
   "execution_count": 33,
   "id": "152b10d8",
   "metadata": {},
   "outputs": [],
   "source": [
    "# Calculcus - Sympy -Transcendental - 2 Exponential and Logarithmic Functions\n",
    "# Page 173 - Ch3 Calculus: A Complete Course\n",
    "#\n",
    "\n",
    "from sympy import *\n",
    "import math\n",
    "import sympy as sp\n",
    "a,b = sp.symbols('a, b')\n",
    "#m,n = sp.symbols('m, n')\n",
    "x,y,t = sp.symbols('x, y, t')\n",
    "#theta = sp.Symbol(\"theta\")"
   ]
  },
  {
   "cell_type": "code",
   "execution_count": 34,
   "id": "c9e3cb1f",
   "metadata": {},
   "outputs": [
    {
     "data": {
      "text/plain": [
       "8.824411082479122"
      ]
     },
     "execution_count": 34,
     "metadata": {},
     "output_type": "execute_result"
    }
   ],
   "source": [
    "# Exponential\n",
    "# Page 172 - Ch3 Calculus: A Complete Course\n",
    "HW1 = 2**3.1415\n",
    "HW1\n",
    "#simplify(EX2A)"
   ]
  },
  {
   "cell_type": "code",
   "execution_count": 35,
   "id": "101fed0e",
   "metadata": {},
   "outputs": [],
   "source": [
    "#from sympy import symbols\n",
    "#from sympy.plotting import plot\n",
    "\n",
    "#p1 = plot(HW1, title=\"Y = X^3.1415\") # "
   ]
  },
  {
   "cell_type": "code",
   "execution_count": 36,
   "id": "3f13de8a",
   "metadata": {},
   "outputs": [
    {
     "data": {
      "text/plain": [
       "3.0"
      ]
     },
     "execution_count": 36,
     "metadata": {},
     "output_type": "execute_result"
    }
   ],
   "source": [
    "# Logarithms\n",
    "# Page 174 - Ch3 Calculus: A Complete Course\n",
    "#EX3 = math.log2(10) + math.log2(12) - math.log2(15)\n",
    "EX3A = math.log2(2**3)\n",
    "EX3A"
   ]
  },
  {
   "cell_type": "code",
   "execution_count": null,
   "id": "1f62c227",
   "metadata": {},
   "outputs": [],
   "source": []
  }
 ],
 "metadata": {
  "kernelspec": {
   "display_name": "Python 3",
   "language": "python",
   "name": "python3"
  },
  "language_info": {
   "codemirror_mode": {
    "name": "ipython",
    "version": 3
   },
   "file_extension": ".py",
   "mimetype": "text/x-python",
   "name": "python",
   "nbconvert_exporter": "python",
   "pygments_lexer": "ipython3",
   "version": "3.11.3"
  },
  "nbTranslate": {
   "displayLangs": [
    "*"
   ],
   "hotkey": "alt-t",
   "langInMainMenu": true,
   "sourceLang": "en",
   "targetLang": "fr",
   "useGoogleTranslate": true
  },
  "toc": {
   "base_numbering": 1,
   "nav_menu": {},
   "number_sections": true,
   "sideBar": true,
   "skip_h1_title": false,
   "title_cell": "Table of Contents",
   "title_sidebar": "Contents",
   "toc_cell": false,
   "toc_position": {},
   "toc_section_display": true,
   "toc_window_display": false
  },
  "varInspector": {
   "cols": {
    "lenName": 16,
    "lenType": 16,
    "lenVar": 40
   },
   "kernels_config": {
    "python": {
     "delete_cmd_postfix": "",
     "delete_cmd_prefix": "del ",
     "library": "var_list.py",
     "varRefreshCmd": "print(var_dic_list())"
    },
    "r": {
     "delete_cmd_postfix": ") ",
     "delete_cmd_prefix": "rm(",
     "library": "var_list.r",
     "varRefreshCmd": "cat(var_dic_list()) "
    }
   },
   "types_to_exclude": [
    "module",
    "function",
    "builtin_function_or_method",
    "instance",
    "_Feature"
   ],
   "window_display": false
  }
 },
 "nbformat": 4,
 "nbformat_minor": 5
}
